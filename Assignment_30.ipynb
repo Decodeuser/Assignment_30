{
 "cells": [
  {
   "cell_type": "markdown",
   "id": "5b036ad3-45d9-4b43-8cde-05e38da1c7bc",
   "metadata": {},
   "source": [
    "Q1.:Write a program to accept percentage from the user and display the grade according to the following criteria:\n",
    "Percentage        Grade\n",
    "Mark\t          Grade\n",
    ">90\t               A\n",
    ">80 and <=90\t   B\n",
    ">=60 and <=80\t   C\n",
    "below 60           D\n",
    "\n",
    "Answer:"
   ]
  },
  {
   "cell_type": "code",
   "execution_count": 14,
   "id": "64795a76-0aa9-4309-9fac-8db4fd818273",
   "metadata": {},
   "outputs": [
    {
     "name": "stdin",
     "output_type": "stream",
     "text": [
      "Enter marks 45\n"
     ]
    },
    {
     "name": "stdout",
     "output_type": "stream",
     "text": [
      "Grade is D\n"
     ]
    }
   ],
   "source": [
    "per = int(input(\"Enter marks\"))\n",
    "if per > 90:\n",
    "    print(\"Grade is A\")\n",
    "elif per > 80 and per <=90:\n",
    "    print(\"Grade is B\")\n",
    "elif per >=60 and per <=80:\n",
    "    print(\"Grade is C\")\n",
    "else:\n",
    "    print(\"Grade is D\")"
   ]
  },
  {
   "cell_type": "markdown",
   "id": "6828860c-c0fa-491a-95cf-24e9190e7f55",
   "metadata": {},
   "source": [
    "Q2.: Write a program to accept the cost price of a bike and display the road tax to be paid according to the following criteria:\n",
    "\n",
    "TAX             Cost Price(in Rs)\n",
    "15%              >100000\n",
    "10%              >500000 and <=100000\n",
    "5%               < = 50000\n",
    "\n",
    "Answer:"
   ]
  },
  {
   "cell_type": "code",
   "execution_count": 13,
   "id": "934a7a7d-364e-484c-bec3-d3548a9612cc",
   "metadata": {
    "tags": []
   },
   "outputs": [
    {
     "name": "stdin",
     "output_type": "stream",
     "text": [
      "Enter the price of bike 65000\n"
     ]
    },
    {
     "name": "stdout",
     "output_type": "stream",
     "text": [
      "Tax to be paid 6500.0\n"
     ]
    }
   ],
   "source": [
    "tax = 0\n",
    "pr=int(input(\"Enter the price of bike\"))\n",
    "if pr > 100000:\n",
    "        tax = 15/100*pr\n",
    "elif pr >50000 and pr <=100000:\n",
    "        tax = 10/100*pr\n",
    "else:\n",
    "    tax = 5/100*pr\n",
    "print(\"Tax to be paid\",tax)"
   ]
  },
  {
   "cell_type": "markdown",
   "id": "a15a9830-35e7-41e6-a19f-f7d92a0b4d90",
   "metadata": {},
   "source": [
    "Q3. Accept any city from the user and display monument of that city.\n",
    "\n",
    "City       Monument\n",
    "Delhi      Red Fort\n",
    "Agra       Taj Mahal\n",
    "Jaipur     Jal Mahal\n",
    "\n",
    "Answer:"
   ]
  },
  {
   "cell_type": "code",
   "execution_count": 14,
   "id": "99759f7e-a8ca-47d1-8777-7795ef2426db",
   "metadata": {},
   "outputs": [
    {
     "name": "stdin",
     "output_type": "stream",
     "text": [
      "Enter name of the city jaipur\n"
     ]
    },
    {
     "name": "stdout",
     "output_type": "stream",
     "text": [
      "Monument name is : Jal Mahal\n"
     ]
    }
   ],
   "source": [
    "city = input(\"Enter name of the city\")\n",
    "if city.lower()==\"delhi\":\n",
    "    print(\"Monument name is : Red Fort\")\n",
    "elif city.lower()==\"agra\":\n",
    "    print(\"Monument name is : Taj Mahal\")\n",
    "elif city.lower()==\"jaipur\":\n",
    "    print(\"Monument name is : Jal Mahal\")\n",
    "else:\n",
    "    print(\"Enter correct name of city\")"
   ]
  },
  {
   "cell_type": "markdown",
   "id": "5f4ea6a4-7001-4fcb-9abd-c399de9cdc32",
   "metadata": {},
   "source": [
    "Q4: check how many times a given number can be divided by 3 before it is less than or equal to 10?\n",
    "\n",
    "Answer:"
   ]
  },
  {
   "cell_type": "code",
   "execution_count": 15,
   "id": "700fde94-702a-4758-a680-cd7578a86a5d",
   "metadata": {},
   "outputs": [],
   "source": [
    "def divisible_by_3(num):\n",
    "    count = 0\n",
    "    while num > 10:\n",
    "        num = num / 3\n",
    "        count += 1\n",
    "    return count"
   ]
  },
  {
   "cell_type": "code",
   "execution_count": 16,
   "id": "c7b1f49b-81f4-48d9-ac53-2a35d1beffcb",
   "metadata": {},
   "outputs": [
    {
     "data": {
      "text/plain": [
       "1"
      ]
     },
     "execution_count": 16,
     "metadata": {},
     "output_type": "execute_result"
    }
   ],
   "source": [
    "divisible_by_3(18)"
   ]
  },
  {
   "cell_type": "markdown",
   "id": "9cc172fb-ad38-4e2a-aa78-96d87fe5c91b",
   "metadata": {},
   "source": [
    "Q.5: Why and when to use while loop give a details description with example.\n",
    "\n",
    "Answer:"
   ]
  },
  {
   "cell_type": "markdown",
   "id": "a534afe5-4b3e-4831-9b2f-535c9686bff7",
   "metadata": {},
   "source": [
    "A While loop in Python allows a part of the code to be executed repeatedly as long as a given condition is true. The While loop in Python is also called a pre-tested loop. It is typically used when the number of iterations is not known.\n",
    "\n",
    "A Python While loop expression/condition consists of three parts:\n",
    "\n",
    "*A piece of code that needs to be repeated over and over\n",
    "*The while keyword\n",
    "*A condition that translates to either True or False\n",
    "\n",
    "Python While Loop Syntax\n",
    "while (expression):\n",
    "Body of while\n",
    "\n",
    "Python While Loop Example:"
   ]
  },
  {
   "cell_type": "code",
   "execution_count": 10,
   "id": "a1619169-6183-4f30-9d27-ef38fbb7e18b",
   "metadata": {
    "tags": []
   },
   "outputs": [
    {
     "name": "stdout",
     "output_type": "stream",
     "text": [
      "1\n",
      "2\n",
      "3\n",
      "4\n",
      "5\n"
     ]
    }
   ],
   "source": [
    "# initialize the variable\n",
    "i = 1\n",
    "n = 5\n",
    "\n",
    "# while loop from i = 1 to 5\n",
    "while i <= n:\n",
    "    print(i)\n",
    "    i = i + 1"
   ]
  },
  {
   "cell_type": "markdown",
   "id": "3d7ddc35-4754-4509-bc50-1eb997de1f22",
   "metadata": {},
   "source": [
    "Q.6: Use nested while loop to print 3 different pattern."
   ]
  },
  {
   "cell_type": "code",
   "execution_count": 12,
   "id": "0f6bae31-4d30-4bac-b97a-d2b9e5375b37",
   "metadata": {},
   "outputs": [
    {
     "name": "stdout",
     "output_type": "stream",
     "text": [
      "*\n",
      "*\n",
      "*\n"
     ]
    }
   ],
   "source": [
    "for i in range(1,3):\n",
    "    for j in range(1,i+1):\n",
    "        print('*')"
   ]
  },
  {
   "cell_type": "code",
   "execution_count": 12,
   "id": "4ce31deb-a475-4dda-bf14-7af26932e469",
   "metadata": {},
   "outputs": [
    {
     "name": "stdout",
     "output_type": "stream",
     "text": [
      "0\n",
      "1\n",
      "2\n",
      "3\n",
      "4\n",
      "0 1 2 3 4 5 6 7 8 9 "
     ]
    }
   ],
   "source": [
    "for i in range(5):\n",
    "    print(i)\n",
    "for j in range(10):\n",
    "    print(j,end=' ')"
   ]
  },
  {
   "cell_type": "code",
   "execution_count": null,
   "id": "cb739204-21be-4757-8da5-9278a5890a13",
   "metadata": {},
   "outputs": [
    {
     "name": "stdout",
     "output_type": "stream",
     "text": [
      "1 1\n",
      "1 2\n",
      "1 3\n",
      "2 1\n",
      "2 2\n",
      "2 3\n",
      "3 1\n",
      "3 2\n",
      "3 3\n",
      "4 1\n",
      "4 2\n",
      "4 3\n"
     ]
    }
   ],
   "source": [
    "for i in range(1,5):\n",
    "    for j in range"
   ]
  },
  {
   "cell_type": "code",
   "execution_count": 11,
   "id": "f679be34-7625-49b7-8530-9a8bca6a746b",
   "metadata": {},
   "outputs": [
    {
     "name": "stdout",
     "output_type": "stream",
     "text": [
      "2 1\n",
      "3 1\n",
      "3 2\n",
      "4 1\n",
      "4 2\n",
      "4 3\n",
      "5 1\n",
      "5 2\n",
      "5 3\n",
      "5 4\n",
      "6 1\n",
      "6 2\n",
      "6 3\n",
      "6 4\n",
      "6 5\n"
     ]
    }
   ],
   "source": [
    " for a in range(2,7):\n",
    "        for b in range(1,a):\n",
    "            print(a,b)"
   ]
  },
  {
   "cell_type": "code",
   "execution_count": null,
   "id": "f679811f-51b7-4fe0-9846-7ab434a0e2bb",
   "metadata": {},
   "outputs": [],
   "source": [
    "Q,8: Reverse a while loop to display number from 10 to 1.\n",
    "Answer:"
   ]
  },
  {
   "cell_type": "code",
   "execution_count": 30,
   "id": "06e8c362-88d9-4645-bb09-36375001c297",
   "metadata": {},
   "outputs": [
    {
     "name": "stdout",
     "output_type": "stream",
     "text": [
      "10\n",
      "9\n",
      "8\n",
      "7\n",
      "6\n",
      "5\n",
      "4\n",
      "3\n",
      "2\n",
      "1\n"
     ]
    }
   ],
   "source": [
    "i = 10\n",
    "while i > 0:\n",
    "    print(i)\n",
    "    i = i - 1"
   ]
  }
 ],
 "metadata": {
  "kernelspec": {
   "display_name": "Python 3 (ipykernel)",
   "language": "python",
   "name": "python3"
  },
  "language_info": {
   "codemirror_mode": {
    "name": "ipython",
    "version": 3
   },
   "file_extension": ".py",
   "mimetype": "text/x-python",
   "name": "python",
   "nbconvert_exporter": "python",
   "pygments_lexer": "ipython3",
   "version": "3.10.8"
  }
 },
 "nbformat": 4,
 "nbformat_minor": 5
}
